{
  "nbformat": 4,
  "nbformat_minor": 0,
  "metadata": {
    "colab": {
      "name": " AG1 - Lenin Oñate.ipynb",
      "provenance": [],
      "collapsed_sections": []
    },
    "kernelspec": {
      "name": "python3",
      "display_name": "Python 3"
    },
    "language_info": {
      "name": "python"
    }
  },
  "cells": [
    {
      "cell_type": "markdown",
      "metadata": {
        "id": "GG2D6vLdYwwy"
      },
      "source": [
        "Actividad Guiada 1 de Algoritmos de Optimizacion\n",
        "\n",
        "Nombre: Lenin Andrés Oñate Montoya\n",
        "\n",
        "https://colab.research.google.com/drive/1gexMoUGNJ54AX5TwVJsFjsNwJeATLI7z?usp=sharing \n",
        "\n",
        "https://github.com/leninandreus/03MIAR-Algoritmos-de-optimizaci-n\n"
      ]
    },
    {
      "cell_type": "code",
      "metadata": {
        "id": "rTiqLuX2ZKuL",
        "colab": {
          "base_uri": "https://localhost:8080/"
        },
        "outputId": "aa652605-53bd-46e0-9216-8ed02d7ac95d"
      },
      "source": [
        "#Torres de Hanoi - Divide y venceras\n",
        "################################################################################\n",
        "\n",
        "\n",
        "################################################################\n",
        "def Torres_Hanoi(N, desde, hasta):\n",
        "#n: número de fichas\n",
        "#desde: inicio de la torre\n",
        "#hasta: fin de torre\n",
        "  if N==1:\n",
        "    print(\"mueve desde\", desde, \"hasta\", hasta)\n",
        "  else:\n",
        "    Torres_Hanoi(N-1,desde,6-desde-hasta)\n",
        "    print(\"mueve desde\", desde, \"hasta\", hasta)\n",
        "    Torres_Hanoi(N-1,6-desde-hasta,hasta)\n",
        "Torres_Hanoi(3,1,3)\n",
        "\n",
        "\n",
        "\n",
        "\n",
        "\n",
        "################################################################"
      ],
      "execution_count": null,
      "outputs": [
        {
          "output_type": "stream",
          "text": [
            "mueve desde 1 hasta 3\n",
            "mueve desde 1 hasta 2\n",
            "mueve desde 3 hasta 2\n",
            "mueve desde 1 hasta 3\n",
            "mueve desde 2 hasta 1\n",
            "mueve desde 2 hasta 3\n",
            "mueve desde 1 hasta 3\n"
          ],
          "name": "stdout"
        }
      ]
    },
    {
      "cell_type": "code",
      "metadata": {
        "id": "UTL6wiczQVDA"
      },
      "source": [
        ""
      ],
      "execution_count": null,
      "outputs": []
    },
    {
      "cell_type": "code",
      "metadata": {
        "id": "YwBudj2hYoMR",
        "colab": {
          "base_uri": "https://localhost:8080/"
        },
        "outputId": "71359b8d-8f5f-40ff-fc01-99740dcb9c9e"
      },
      "source": [
        "#Cambio de monedas - Técnica voraz\n",
        "################################################################################\n",
        "\n",
        "################################################################\n",
        "def cambio_monedas(CANTIDAD,SISTEMA):\n",
        "#....\n",
        "#Cantidad: número óptimo de monedas\n",
        "#Sistema: sistema monetario\n",
        "  VALOR_ACUMULADO=0\n",
        "  SOLUCION=[0 for i in range(len(SISTEMA))]\n",
        "\n",
        "  for i in  range(len(SISTEMA)):\n",
        "\n",
        "    monedas=(CANTIDAD-VALOR_ACUMULADO)//SISTEMA[i]\n",
        "    SOLUCION[i]=monedas\n",
        "    VALOR_ACUMULADO=VALOR_ACUMULADO+SISTEMA[i]*monedas\n",
        "\n",
        "    if VALOR_ACUMULADO==CANTIDAD:\n",
        "      return SOLUCION\n",
        "  if VALOR_ACUMULADO!=CANTIDAD:\n",
        "    print (\"No existe solución\")\n",
        "  else:\n",
        "    return SOLUCION\n",
        "  \n",
        "SISTEMA = sorted([25,10,5,1],reverse=True)\n",
        "cambio_monedas (27,SISTEMA)\n",
        "\n",
        "################################################################"
      ],
      "execution_count": null,
      "outputs": [
        {
          "output_type": "execute_result",
          "data": {
            "text/plain": [
              "[1, 0, 0, 2]"
            ]
          },
          "metadata": {
            "tags": []
          },
          "execution_count": 17
        }
      ]
    },
    {
      "cell_type": "code",
      "metadata": {
        "id": "9toJ4WjhQUNj"
      },
      "source": [
        ""
      ],
      "execution_count": null,
      "outputs": []
    },
    {
      "cell_type": "code",
      "metadata": {
        "id": "H4Iwt2XRZTFr",
        "colab": {
          "base_uri": "https://localhost:8080/"
        },
        "outputId": "7c1cfa2b-69ea-447e-aa44-6e6678f3f660"
      },
      "source": [
        "#N Reinas - Vuelta Atrás()\n",
        "################################################################################\n",
        "\n",
        "#Verifica que en la solución parcial no hay amenzas entre reinas\n",
        "################################################################\n",
        "def es_prometedora(SOLUCION,etapa):\n",
        "################################################################\n",
        "  #print(SOLUCION)\n",
        "  #Si la solución tiene dos valores iguales no es valida => Dos reinas en la misma fila\n",
        "  for i in range(etapa+1):\n",
        "    #print(\"El valor \" + str(SOLUCION[i]) + \" está \" +  str(SOLUCION.count(SOLUCION[i])) + \" veces\")\n",
        "    if SOLUCION.count(SOLUCION[i]) > 1:       \n",
        "      return False\n",
        "  \n",
        "    #Verifica las diagonales\n",
        "    for j in range(i+1, etapa +1 ):\n",
        "      #print(\"Comprobando diagonal de \" + str(i) + \" y \" + str(j))\n",
        "      if abs(i-j) == abs(SOLUCION[i]-SOLUCION[j]) : return False\n",
        "  return True\n",
        "\n",
        "#Traduce la solución al tablero\n",
        "################################################################\n",
        "def escribe_solucion(S):\n",
        "################################################################\n",
        "  n = len(S)\n",
        "  for x in range(n):\n",
        "    print(\"\")\n",
        "    for i in range(n):\n",
        "      if S[i] == x+1:\n",
        "        print(\" X \" , end=\"\")\n",
        "      else:\n",
        "        print(\" - \", end=\"\")\n",
        "\n",
        "\n",
        "\n",
        "#Proceso principal de N-Reinas\n",
        "################################################################\n",
        "def reinas(N,solucion=[],etapa=0): \n",
        "################################################################\n",
        "### ....\n",
        "  if len(solucion)==0:\n",
        "    solucion=[0 for i in range(N)]\n",
        "\n",
        "  for i in range(1,N+1):\n",
        "    solucion[etapa]=i\n",
        "\n",
        "    if es_prometedora(solucion,etapa):\n",
        "      if etapa ==N-1:\n",
        "        print(\"\\nLa solución es: \",solucion)\n",
        "        escribe_solucion(solucion)\n",
        "        print(\"\\n\\n\")\n",
        "      else:\n",
        "        reinas(N,solucion,etapa+1)\n",
        "\n",
        "    else:\n",
        "      None\n",
        "    \n",
        "    solucion[etapa]=0\n",
        "\n",
        "reinas(4,solucion=[],etapa=0)"
      ],
      "execution_count": null,
      "outputs": [
        {
          "output_type": "stream",
          "text": [
            "\n",
            "La solución es:  [2, 4, 1, 3]\n",
            "\n",
            " -  -  X  - \n",
            " X  -  -  - \n",
            " -  -  -  X \n",
            " -  X  -  - \n",
            "\n",
            "\n",
            "\n",
            "La solución es:  [3, 1, 4, 2]\n",
            "\n",
            " -  X  -  - \n",
            " -  -  -  X \n",
            " X  -  -  - \n",
            " -  -  X  - \n",
            "\n",
            "\n"
          ],
          "name": "stdout"
        }
      ]
    },
    {
      "cell_type": "code",
      "metadata": {
        "id": "eTZclKH9QV0R"
      },
      "source": [
        ""
      ],
      "execution_count": null,
      "outputs": []
    },
    {
      "cell_type": "code",
      "metadata": {
        "id": "iPcgVSMabXrU"
      },
      "source": [
        "\n",
        "\n",
        "\n",
        "\n",
        "\n"
      ],
      "execution_count": null,
      "outputs": []
    },
    {
      "cell_type": "code",
      "metadata": {
        "id": "TocxR55dQWq5"
      },
      "source": [
        ""
      ],
      "execution_count": null,
      "outputs": []
    }
  ]
}