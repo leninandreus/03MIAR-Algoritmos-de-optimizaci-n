{
  "nbformat": 4,
  "nbformat_minor": 0,
  "metadata": {
    "colab": {
      "name": "VIU-03MIAR- Problemas del Trabajo Práctico-Lenin Oñate.ipynb",
      "provenance": [],
      "collapsed_sections": []
    },
    "kernelspec": {
      "name": "python3",
      "display_name": "Python 3"
    }
  },
  "cells": [
    {
      "cell_type": "markdown",
      "metadata": {
        "id": "hVbXYX-RfPWh"
      },
      "source": [
        "# Algoritmos de optimización - Seminario<br>\n",
        "Nombre y Apellidos: Lenin Andrés Oñate Montoya   <br>\n",
        "Url: https://github.com/leninandreus/03MIAR-Algoritmos-de-optimizaci-n\n",
        "<br>\n",
        "Url: https://colab.research.google.com/drive/1j-Eq_HoLF0dbONVYulswtWuSLT8hWBvk?usp=sharing <br>\n",
        "Problema:\n",
        "> 1. Sesiones de doblaje <br>\n",
        ">2. Organizar los horarios de partidos de La Liga<br>\n",
        ">3. Combinar cifras y operaciones\n",
        "\n",
        "Descripción del problema:(copiar enunciado)\n",
        "\n",
        "Problema 3. Combinar cifras y operaciones<br>\n",
        "• El problema consiste en analizar el siguiente problema y diseñar un algoritmo que lo resuelva.<br>\n",
        "\n",
        "•Disponemos de las 9 cifras del 1 al 9 (excluimos el cero) y de los 4 signos básicos de las operaciones fundamentales: suma(+), resta(-), multiplicación(*) y división(/) <br>\n",
        "\n",
        "• Debemos combinarlos alternativamente sin repetir ninguno de ellos para obtener una cantidad dada. Un ejemplo sería para obtener el 4: <br>\n",
        "\n",
        "4+2-6/3**1 = 4 <br>\n",
        "\n",
        "(*) La respuesta es obligatoria\n",
        "\n",
        "• Debe analizarse el problema para encontrar todos los valores enteros posibles planteando las siguientes cuestiones: <br>\n",
        "\n",
        "###¿Qué valor máximo y mínimo se pueden obtener según las condiciones del problema? |\n",
        "\n",
        "Para responder a esta inquietud se realizará un análisis de manera intuitiva. Por un lado para obtener el máximo valor se debería en cierto modo optimizar los números más altos con las operaciones que permiten avanzar como lo son la multiplicación y la suma y buscar descontar lo mínimo posible dado que se deben usar todos los operadores. De esta manera bajo mi criterio el máximo que se podría encontrar estaría dado por la siguiente expresión: 9x8+7-1/6. Por otro lado para encontrar el mínimo se debe buscar el menor número negativo posible a partir de una diferencia que de negativa y posterior a esa ampliarla mediante multiplicación para así encontrar el menor valor posible.De esta manera bajo mi criterio el mínimo valor que se podría encontrar estaría dado por la siguiente expresión:  1-9x8+2/7. Luego lo que se hace es utilizar la función eval para evaluar las expresiones anteriormente mencionadas y saber el valor.\n",
        "\n",
        "\n",
        "###¿Es posible encontrar todos los valores enteros posibles entre dicho mínimo y máximo ?<br>\n",
        "\n",
        "No es posible encontrar todos los valores enteros posibles, dos ejemplos serían los extremos.Esto se verificó al probar los algoritmos con dichos valores\n",
        "                              "
      ]
    },
    {
      "cell_type": "code",
      "metadata": {
        "colab": {
          "base_uri": "https://localhost:8080/"
        },
        "id": "5Lx67BtrnkDc",
        "outputId": "8a8a2433-b692-4110-c7ec-4d69cb2b0d79"
      },
      "source": [
        "#evaluación de la función que permite encontrar el máximo valor\n",
        "print('Valor máximo que se puede obtener:')\n",
        "print(eval('9*8+7-1/6'))"
      ],
      "execution_count": null,
      "outputs": [
        {
          "output_type": "stream",
          "text": [
            "Valor máximo que se puede obtener:\n",
            "78.83333333333333\n"
          ],
          "name": "stdout"
        }
      ]
    },
    {
      "cell_type": "code",
      "metadata": {
        "colab": {
          "base_uri": "https://localhost:8080/"
        },
        "id": "RmGsRlFunaJ3",
        "outputId": "99246007-3fb6-490e-c8fc-cefe6868d98d"
      },
      "source": [
        "#evaluación de la función que permite encontrar el mínimo valor\n",
        "print('Valor mínimo que se puede obtener:')\n",
        "print(eval('1-9*8+2/7'))"
      ],
      "execution_count": null,
      "outputs": [
        {
          "output_type": "stream",
          "text": [
            "Valor mínimo que se puede obtener:\n",
            "-70.71428571428571\n"
          ],
          "name": "stdout"
        }
      ]
    },
    {
      "cell_type": "markdown",
      "metadata": {
        "id": "3_-exlrTgLd-"
      },
      "source": [
        "###(*)¿Cuantas posibilidades hay sin tener en cuenta las restricciones?<br>\n",
        "\n",
        "\n",
        "\n",
        "###¿Cuantas posibilidades hay teniendo en cuenta todas las restricciones.\n",
        "\n",
        "\n"
      ]
    },
    {
      "cell_type": "markdown",
      "metadata": {
        "id": "WfCUqJyKhPcw"
      },
      "source": [
        "Análisis no teniendo en cuenta las restricciones: <br>\n",
        "1. Primero se debe calcular cuántas posibles combinaciones se obtienen con 5 elementos de un total de 9. Para esto se aplica la fórmula de la combinatoria, quedando de la siguiente manera: 9!/(5!(9-5)!) = 126. <br>\n",
        "\n",
        "2. En segundo lugar se debe obtener el número de veces que pueden ordenarse cada uno de los 126 conjuntos, para lo cual se hace lo siguiente: 5! = 120 maneras diferentes. <br>\n",
        "\n",
        "3. Luego se debe encontrar el número de veces que pueden ordenarse el conjunto formado por los signos aritméticos: 4! = 24 maneras diferentes <br>\n",
        "\n",
        "4. Finalmente el resultado será las multiplicaciones de los valores encontrados anteriormente: 126 * 120 * 24 = 362880 posibles soluciones\n",
        "\n",
        "\n"
      ]
    },
    {
      "cell_type": "code",
      "metadata": {
        "id": "iq6Fe32MgpDX"
      },
      "source": [
        ""
      ],
      "execution_count": null,
      "outputs": []
    },
    {
      "cell_type": "markdown",
      "metadata": {
        "id": "dzynfVJahHoY"
      },
      "source": [
        "Modelo para el espacio de soluciones<br>\n",
        "###(*) ¿Cual es la estructura de datos que mejor se adapta al problema? Argumentalo.(Es posible que hayas elegido una al principio y veas la necesidad de cambiar, arguentalo)\n"
      ]
    },
    {
      "cell_type": "markdown",
      "metadata": {
        "id": "xFIJrOwKi2Ti"
      },
      "source": [
        "En el primer algoritmo elaborado se utiliza el T = set() pues me permite que se devuelva el total de los enteros sin admitir elementos repetidos, y para la salida del programa se utiliza un diccionario para observar todas las posibles soluciones del número ingresado\n",
        "\n",
        "En el segundo algoritmo elaborado se utiliza una estructura de datos tipo string unitario, pues me permite elegir índices para recorrerlos debido a las funciones shuffle y append."
      ]
    },
    {
      "cell_type": "code",
      "metadata": {
        "id": "38c-7-ejhJmA"
      },
      "source": [
        ""
      ],
      "execution_count": null,
      "outputs": []
    },
    {
      "cell_type": "markdown",
      "metadata": {
        "id": "7Z9U2W7bi-XS"
      },
      "source": [
        "Según el modelo para el espacio de soluciones<br>\n",
        "###(*)¿Cual es la función objetivo?\n",
        "\n",
        "###(*)¿Es un problema de maximización o minimización?"
      ]
    },
    {
      "cell_type": "markdown",
      "metadata": {
        "id": "hBalWLM7j1_d"
      },
      "source": [
        "De acuerdo al ejercicio planteado la función objetivo vendría a ser la evaluación de la expresión - el valor que ingrese el usuario para encontrar dicha expresión. Este ejercicio no trata de maximización o de minimización, es un problema de búsqueda en el cual nos piden encontrar todas la soluciones posibles."
      ]
    },
    {
      "cell_type": "code",
      "metadata": {
        "id": "pDA-rg3Gj5Lz"
      },
      "source": [
        ""
      ],
      "execution_count": null,
      "outputs": []
    },
    {
      "cell_type": "markdown",
      "metadata": {
        "id": "rlnTYgY1j6I2"
      },
      "source": [
        "Diseña un algoritmo para resolver el problema por fuerza bruta"
      ]
    },
    {
      "cell_type": "markdown",
      "metadata": {
        "id": "70rDgxYXkC8r"
      },
      "source": [
        "Respuesta"
      ]
    },
    {
      "cell_type": "code",
      "metadata": {
        "id": "CJb5sQ0qkENy",
        "colab": {
          "base_uri": "https://localhost:8080/"
        },
        "outputId": "26bc94b2-a054-487c-ee73-7f8869a109a7"
      },
      "source": [
        "import math                                                               #importación de librerías a utilizar\n",
        "import itertools\n",
        "num=4                                                                    #numero solicitado por el usuario\n",
        "\n",
        "def ejercicio3_fuerzabruta(x):                                             #creación de la función a programar\n",
        "   \n",
        "    r = {}                                                                 # variables para almacenar los valores utilizados en el programa                             \n",
        "    m = 0   \n",
        "    M = 0   \n",
        "    T = set()                                                              #devolver el total de los números enteros\n",
        "    for a in itertools.permutations([1, 2, 3,4,5,6,7,8,9],5) :             #iterar sobre el número de permutaciones\n",
        "        b=('-', '+', '/', '*')\n",
        "        expresion=''\n",
        "        i=0\n",
        "        for n in a :      \n",
        "            if i <=3 :    \n",
        "                expresion += str(n) + b[i]\n",
        "                i +=1\n",
        "            else :\n",
        "                expresion += str(n)\n",
        "        parte_decimal, parte_entera = math.modf(eval(expresion))\n",
        "        if parte_decimal == 0 :\n",
        "            T.add(parte_entera)\n",
        "            if parte_entera < m : m = eval(expresion)\n",
        "            if parte_entera > M : M = eval(expresion)    \n",
        "            if parte_entera == x :\n",
        "                r[expresion] = parte_entera\n",
        "    return r,m,M,T\n",
        "r = expres(num)\n",
        "print( r,'\\n')\n",
        "print(\"Para un total de \", len(r[0]), \"expresiones con el numero\", num,\"solicitado\")"
      ],
      "execution_count": null,
      "outputs": [
        {
          "output_type": "stream",
          "text": [
            "({'1-3+4/6*9': 4.0, '1-3+9/6*4': 4.0, '1-5+4/3*6': 4.0, '1-5+6/3*4': 4.0, '1-7+4/2*5': 4.0, '1-7+5/2*4': 4.0, '1-7+5/3*6': 4.0, '1-7+5/4*8': 4.0, '1-7+6/3*5': 4.0, '1-7+8/4*5': 4.0, '1-9+3/2*8': 4.0, '1-9+4/2*6': 4.0, '1-9+6/2*4': 4.0, '1-9+6/4*8': 4.0, '1-9+8/2*3': 4.0, '1-9+8/4*6': 4.0, '2-1+4/8*6': 4.0, '2-1+6/8*4': 4.0, '2-8+5/3*6': 4.0, '2-8+6/3*5': 4.0, '3-2+4/8*6': 4.0, '3-2+6/8*4': 4.0, '3-5+4/6*9': 4.0, '3-5+9/6*4': 4.0, '3-7+2/1*4': 4.0, '3-7+4/1*2': 4.0, '3-9+2/1*5': 4.0, '3-9+4/2*5': 4.0, '3-9+5/1*2': 4.0, '3-9+5/2*4': 4.0, '3-9+5/4*8': 4.0, '3-9+8/4*5': 4.0, '4-1+2/6*3': 4.0, '4-1+3/6*2': 4.0, '4-2+1/3*6': 4.0, '4-2+3/9*6': 4.0, '4-2+6/3*1': 4.0, '4-2+6/9*3': 4.0, '4-3+1/2*6': 4.0, '4-3+2/6*9': 4.0, '4-3+6/2*1': 4.0, '4-3+9/6*2': 4.0, '4-6+2/1*3': 4.0, '4-6+2/3*9': 4.0, '4-6+3/1*2': 4.0, '4-6+9/3*2': 4.0, '4-9+3/2*6': 4.0, '4-9+6/2*3': 4.0, '5-3+1/2*4': 4.0, '5-3+1/4*8': 4.0, '5-3+4/2*1': 4.0, '5-3+8/4*1': 4.0, '5-4+1/2*6': 4.0, '5-4+1/3*9': 4.0, '5-4+2/6*9': 4.0, '5-4+6/2*1': 4.0, '5-4+9/3*1': 4.0, '5-4+9/6*2': 4.0, '5-7+2/1*3': 4.0, '5-7+2/3*9': 4.0, '5-7+3/1*2': 4.0, '5-7+3/2*4': 4.0, '5-7+3/4*8': 4.0, '5-7+4/2*3': 4.0, '5-7+4/6*9': 4.0, '5-7+8/4*3': 4.0, '5-7+9/3*2': 4.0, '5-7+9/6*4': 4.0, '5-9+2/1*4': 4.0, '5-9+4/1*2': 4.0, '5-9+4/3*6': 4.0, '5-9+6/3*4': 4.0, '6-3+2/8*4': 4.0, '6-3+4/8*2': 4.0, '6-5+1/3*9': 4.0, '6-5+9/3*1': 4.0, '6-8+2/1*3': 4.0, '6-8+2/3*9': 4.0, '6-8+3/1*2': 4.0, '6-8+3/2*4': 4.0, '6-8+4/2*3': 4.0, '6-8+9/3*2': 4.0, '7-4+2/6*3': 4.0, '7-4+3/6*2': 4.0, '7-5+1/2*4': 4.0, '7-5+1/3*6': 4.0, '7-5+1/4*8': 4.0, '7-5+3/6*4': 4.0, '7-5+3/9*6': 4.0, '7-5+4/2*1': 4.0, '7-5+4/6*3': 4.0, '7-5+6/3*1': 4.0, '7-5+6/9*3': 4.0, '7-5+8/4*1': 4.0, '7-6+1/3*9': 4.0, '7-6+9/3*1': 4.0, '7-9+2/1*3': 4.0, '7-9+3/1*2': 4.0, '7-9+3/2*4': 4.0, '7-9+3/4*8': 4.0, '7-9+4/2*3': 4.0, '7-9+8/4*3': 4.0, '8-5+2/6*3': 4.0, '8-5+3/6*2': 4.0, '8-6+1/2*4': 4.0, '8-6+4/2*1': 4.0, '8-7+1/2*6': 4.0, '8-7+1/3*9': 4.0, '8-7+2/4*6': 4.0, '8-7+2/6*9': 4.0, '8-7+6/2*1': 4.0, '8-7+6/4*2': 4.0, '8-7+9/3*1': 4.0, '8-7+9/6*2': 4.0, '9-6+2/8*4': 4.0, '9-6+4/8*2': 4.0, '9-7+1/2*4': 4.0, '9-7+1/3*6': 4.0, '9-7+1/4*8': 4.0, '9-7+3/6*4': 4.0, '9-7+4/2*1': 4.0, '9-7+4/6*3': 4.0, '9-7+6/3*1': 4.0, '9-7+8/4*1': 4.0, '9-8+1/2*6': 4.0, '9-8+2/4*6': 4.0, '9-8+6/2*1': 4.0, '9-8+6/4*2': 4.0}, -7.0, 77.0, {0.0, 1.0, 2.0, 3.0, 4.0, 5.0, 6.0, 7.0, 8.0, 9.0, 10.0, 11.0, 12.0, 13.0, 14.0, 15.0, 16.0, 17.0, 18.0, 19.0, 20.0, 21.0, 22.0, 23.0, 24.0, 25.0, 26.0, 27.0, 28.0, 29.0, 30.0, 31.0, 32.0, 33.0, 34.0, 35.0, 36.0, 37.0, 38.0, 39.0, 40.0, 41.0, 42.0, 43.0, 44.0, 45.0, 46.0, 47.0, 48.0, 49.0, 50.0, 51.0, 52.0, 53.0, 54.0, 55.0, 56.0, 57.0, 58.0, 59.0, 60.0, 61.0, 62.0, 63.0, 64.0, 65.0, 66.0, 67.0, 68.0, 69.0, 70.0, 71.0, 73.0, 74.0, 75.0, 76.0, 77.0, -1.0, -7.0, -6.0, -5.0, -4.0, -3.0, -2.0}) \n",
            "\n",
            "Para un total de  128 expresiones con el numero 4 solicitado\n"
          ],
          "name": "stdout"
        }
      ]
    },
    {
      "cell_type": "markdown",
      "metadata": {
        "id": "tgrnsC2nkFa8"
      },
      "source": [
        "###Calcula la complejidad del algoritmo por fuerza bruta"
      ]
    },
    {
      "cell_type": "markdown",
      "metadata": {
        "id": "9eUd3xwckP68"
      },
      "source": [
        "Para calcular la complejidad del algoritmo diseñado, se debe tener en cuenta que en el algoritmo se tiene dos bucles anidados, por lo que la complejidad es $O(n^2)$\n"
      ]
    },
    {
      "cell_type": "code",
      "metadata": {
        "id": "rvZWwL-ckRST"
      },
      "source": [
        ""
      ],
      "execution_count": null,
      "outputs": []
    },
    {
      "cell_type": "markdown",
      "metadata": {
        "id": "txbrmLmskReM"
      },
      "source": [
        "###(*)Diseña un algoritmo que mejore la complejidad del algortimo por fuerza bruta. Argumenta porque crees que mejora el algoritmo por fuerza bruta"
      ]
    },
    {
      "cell_type": "markdown",
      "metadata": {
        "id": "hLrVwt5QkZPD"
      },
      "source": [
        "El algoritmo a continuación mejora el algoritmo anterior,debido a las siguientes consideraciones:\n",
        "\n",
        "1. Encuentra una única solución\n",
        "2. Permite ingresar un número máximo de iteracciones en dónde el algoritmo deberá encontrar la solución.\n",
        "3. Acorde a los dos puntos anteriores, será un algoritmo más eficiente y se ejecutará en una menor cantidad de tiempo\n",
        "4. El orden de complejidad es menor, cómo se verá más adelante"
      ]
    },
    {
      "cell_type": "code",
      "metadata": {
        "id": "m1eyM21Vkabg",
        "colab": {
          "base_uri": "https://localhost:8080/"
        },
        "outputId": "e458da66-0e95-4a74-fe1b-ca2a3f43ebbf"
      },
      "source": [
        "import random\n",
        "\n",
        "def ejercicio3_mejorado(numero,limite):                                                  #creación de la función: límite es el numero de iteracciones para encontrar la solución                                                     \n",
        "\n",
        "    conj = ['1','2','3','4','5','6','7','8','9']                                        #variables a almacenar\n",
        "    oper = ['+','-','*','/']\n",
        "\n",
        "    max = 0\n",
        "    min = 0\n",
        "\n",
        "    if (numero > 78.833) or (numero < -70.7142):                                               #validación en el caso de tener un número no válido\n",
        "        print('El número ingresado está fuera del rango')\n",
        "    elif not(numero==int(numero)):\n",
        "        print('El número ingresado debe ser un entero')\n",
        "    else:                                                                                #programación de la solución\n",
        "        resultado = numero + 1\n",
        "        contador = 0\n",
        "        while (not(resultado == numero)) and (contador<limite):\n",
        "            random.shuffle(conj)\n",
        "            random.shuffle(oper)\n",
        "            expresion = ['' for x in range(9)]\n",
        "            for i in range(5):\n",
        "                pos = 2*i\n",
        "                expresion[pos] = conj[i]\n",
        "                if (pos+1)<len(expresion):\n",
        "                    expresion[pos+1] = oper[i]\n",
        "            cadena = ''.join(expresion)\n",
        "            resultado = eval(cadena)\n",
        "            if resultado > max:\n",
        "                max = resultado\n",
        "            if resultado < min:\n",
        "                min = resultado\n",
        "            contador += 1\n",
        "        if eval(cadena)==numero:\n",
        "            print('La mejor solución encontrada es:' + cadena + ' = ' + str(numero))\n",
        "        else:\n",
        "            print('Ingresar más de ' + str(limite) + ' iteraciones.')\n",
        "        print('Número de iteraciones: ' + str(contador))\n",
        "numero=4\n",
        "ejercicio3_mejorado(numero,1000)"
      ],
      "execution_count": null,
      "outputs": [
        {
          "output_type": "stream",
          "text": [
            "La mejor solución encontrada es:9+7-6/1*2 = 4\n",
            "Número de iteraciones: 145\n"
          ],
          "name": "stdout"
        }
      ]
    },
    {
      "cell_type": "markdown",
      "metadata": {
        "id": "eGDB4K6uk1iN"
      },
      "source": [
        "###(*)Calcula la complejidad del algoritmo "
      ]
    },
    {
      "cell_type": "markdown",
      "metadata": {
        "id": "NhpTh_BPk1ms"
      },
      "source": [
        "Para calcular la complejidad del algoritmo diseñado, se debe tener en cuenta que en el algoritmo se tiene dos bucles pero ninguno se encuentra anidado (la función shuffle de python internamente tiene un bucle), por lo que la complejidad es $O(n)$\n"
      ]
    },
    {
      "cell_type": "code",
      "metadata": {
        "id": "nREzhkStlCq8"
      },
      "source": [
        ""
      ],
      "execution_count": null,
      "outputs": []
    },
    {
      "cell_type": "markdown",
      "metadata": {
        "id": "3M6QjTsSkmYe"
      },
      "source": [
        "###Según el problema (y tenga sentido), diseña un juego de datos de entrada aleatorios"
      ]
    },
    {
      "cell_type": "markdown",
      "metadata": {
        "id": "Jc3_OlyNkvjZ"
      },
      "source": [
        "Para diseñar un juego de datos de entrada aleatorio se hará uso de randint, que permite generar un número entero aleatorio de acuerdo a los límites generados, que en este caso son -70 y 78"
      ]
    },
    {
      "cell_type": "code",
      "metadata": {
        "id": "sJ-N2etjkyWc",
        "colab": {
          "base_uri": "https://localhost:8080/"
        },
        "outputId": "2654354d-ff8e-4af1-88a1-78e51e852a8d"
      },
      "source": [
        "from random import randint\n",
        "juego = randint(-70, 78)\n",
        "print(juego)"
      ],
      "execution_count": null,
      "outputs": [
        {
          "output_type": "stream",
          "text": [
            "-34\n"
          ],
          "name": "stdout"
        }
      ]
    },
    {
      "cell_type": "markdown",
      "metadata": {
        "id": "zy5ZROmjlGo1"
      },
      "source": [
        "###Aplica el algoritmo al juego de datos generado"
      ]
    },
    {
      "cell_type": "markdown",
      "metadata": {
        "id": "_Cmj-PVylMsa"
      },
      "source": [
        "Respuesta"
      ]
    },
    {
      "cell_type": "code",
      "metadata": {
        "id": "Jkx8GeiYlUz1",
        "colab": {
          "base_uri": "https://localhost:8080/"
        },
        "outputId": "da7b142b-0b1a-472e-9f68-5a58c3d471ce"
      },
      "source": [
        "ejercicio3_mejorado(juego,10000)"
      ],
      "execution_count": null,
      "outputs": [
        {
          "output_type": "stream",
          "text": [
            "La mejor solución encontrada es:3-6*7/1+5 = -34\n",
            "Número de iteraciones: 1600\n"
          ],
          "name": "stdout"
        }
      ]
    },
    {
      "cell_type": "markdown",
      "metadata": {
        "id": "eTFWUJQrtGcv"
      },
      "source": [
        "###Enumera las referencias que has utilizado(si ha sido necesario) para llevar a cabo el trabajo"
      ]
    },
    {
      "cell_type": "markdown",
      "metadata": {
        "id": "YKQ_mRBttWsP"
      },
      "source": [
        "Tutorial de Python https://tutorial.python.org.ar/en/latest/\n",
        "\n",
        "Manual de la asignatura https://campus.viu.es/bbcswebdav/pid-3295799-dt-content-rid-55904575_1/courses/2021_04_A_50688/03MIAR_RReyero_nueva_imagen.pdf\n",
        "\n",
        " Función función random.shuffle en Python http://svn.python.org/projects/python/trunk/Lib/random.py\n"
      ]
    },
    {
      "cell_type": "markdown",
      "metadata": {
        "id": "kAkDPUyRtYyH"
      },
      "source": [
        "###Describe brevemente las lineas de como crees que es posible avanzar en el estudio del problema. Ten en cuenta incluso posibles variaciones del problema y/o variaciones al alza del tamaño"
      ]
    },
    {
      "cell_type": "markdown",
      "metadata": {
        "id": "IE0uZmo-tZu-"
      },
      "source": [
        "Si el problema fuera de una mayor dimensión, entendiéndose por mayor dimensión si se aumentará el número de digitos y de signos aritméticos, lo que sucedería sería que diseñar un algoritmo por fuerza bruta en el que se indique todas las solciones tendría un coste muy alto, consumiendo mucha memoria y tiempo en ejecución. Entonces lo que se debería realizar es encontrar dentro del rango de posibles soluciones, para que números en verdad funcionaría o encontraría el algoritmo, esto a su vez obviamente ocasionaría  diseñar otro algoritmo que podría incluso peor que tener un solo algoritmo. Entonces una buena solución sería utilizar el segundo algoritmo diseñado."
      ]
    }
  ]
}